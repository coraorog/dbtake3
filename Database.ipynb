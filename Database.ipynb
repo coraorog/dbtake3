{
 "cells": [
  {
   "cell_type": "markdown",
   "metadata": {},
   "source": [
    "Plant Parenthood"
   ]
  },
  {
   "cell_type": "code",
   "execution_count": 11,
   "metadata": {},
   "outputs": [
    {
     "name": "stdout",
     "output_type": "stream",
     "text": [
      "The sql extension is already loaded. To reload it, use:\n",
      "  %reload_ext sql\n"
     ]
    }
   ],
   "source": [
    "%load_ext sql\n"
   ]
  },
  {
   "cell_type": "code",
   "execution_count": 2,
   "metadata": {},
   "outputs": [],
   "source": [
    "%sql sqlite:///Plant_Parenthood2.db"
   ]
  },
  {
   "cell_type": "code",
   "execution_count": 3,
   "metadata": {},
   "outputs": [],
   "source": [
    "import pymysql"
   ]
  },
  {
   "cell_type": "code",
   "execution_count": 4,
   "metadata": {},
   "outputs": [
    {
     "name": "stdout",
     "output_type": "stream",
     "text": [
      " * sqlite:///Plant_Parenthood2.db\n",
      "(sqlite3.OperationalError) table CUSTOMERS already exists\n",
      "[SQL: CREATE TABLE CUSTOMERS(\n",
      "    cid INT,\n",
      "    name VARCHAR(255) NOT NULL,\n",
      "    email TEXT);]\n",
      "(Background on this error at: https://sqlalche.me/e/20/e3q8)\n"
     ]
    }
   ],
   "source": [
    "%%sql\n",
    "CREATE TABLE CUSTOMERS(\n",
    "    cid INT,\n",
    "    name VARCHAR(255) NOT NULL,\n",
    "    email TEXT);"
   ]
  },
  {
   "cell_type": "code",
   "execution_count": 5,
   "metadata": {},
   "outputs": [
    {
     "name": "stdout",
     "output_type": "stream",
     "text": [
      " * sqlite:///Plant_Parenthood2.db\n",
      "(sqlite3.OperationalError) table PLANTS already exists\n",
      "[SQL: CREATE TABLE PLANTS(\n",
      "    pid INTEGER PRIMARY KEY,\n",
      "    title VARCHAR(255) NOT NULL,\n",
      "    author TEXT);]\n",
      "(Background on this error at: https://sqlalche.me/e/20/e3q8)\n"
     ]
    }
   ],
   "source": [
    "%%sql\n",
    "CREATE TABLE PLANTS(\n",
    "    pid INTEGER PRIMARY KEY,\n",
    "    title VARCHAR(255) NOT NULL,\n",
    "    author TEXT);"
   ]
  },
  {
   "cell_type": "code",
   "execution_count": 6,
   "metadata": {},
   "outputs": [
    {
     "name": "stdout",
     "output_type": "stream",
     "text": [
      " * sqlite:///Plant_Parenthood2.db\n",
      "(sqlite3.OperationalError) table ORDERS already exists\n",
      "[SQL: CREATE TABLE ORDERS(\n",
      "    oid INT PRIMARY KEY, \n",
      "    orderDate VARCHAR(255) NOT NULL,\n",
      "    shippingAddress TEXT);]\n",
      "(Background on this error at: https://sqlalche.me/e/20/e3q8)\n"
     ]
    }
   ],
   "source": [
    "%%sql\n",
    "CREATE TABLE ORDERS(\n",
    "    oid INT PRIMARY KEY, \n",
    "    orderDate VARCHAR(255) NOT NULL,\n",
    "    shippingAddress TEXT);"
   ]
  },
  {
   "cell_type": "code",
   "execution_count": 7,
   "metadata": {},
   "outputs": [
    {
     "name": "stdout",
     "output_type": "stream",
     "text": [
      " * sqlite:///Plant_Parenthood2.db\n",
      "(sqlite3.OperationalError) table CONTAINS already exists\n",
      "[SQL: CREATE TABLE CONTAINS(\n",
      "    oid INTEGER,\n",
      "    pid INTEGER,\n",
      "    PRIMARY KEY (oid, pid),\n",
      "    FOREIGN KEY (oid) REFERENCES ORDERS(oid) ON DELETE CASCADE,\n",
      "    FOREIGN KEY (pid) REFERENCES BOOKS(pid) ON DELETE CASCADE\n",
      ");]\n",
      "(Background on this error at: https://sqlalche.me/e/20/e3q8)\n"
     ]
    }
   ],
   "source": [
    "%%sql\n",
    "CREATE TABLE CONTAINS(\n",
    "    oid INTEGER,\n",
    "    pid INTEGER,\n",
    "    PRIMARY KEY (oid, pid),\n",
    "    FOREIGN KEY (oid) REFERENCES ORDERS(oid) ON DELETE CASCADE,\n",
    "    FOREIGN KEY (pid) REFERENCES BOOKS(pid) ON DELETE CASCADE\n",
    ");"
   ]
  },
  {
   "cell_type": "code",
   "execution_count": 8,
   "metadata": {},
   "outputs": [
    {
     "name": "stdout",
     "output_type": "stream",
     "text": [
      " * sqlite:///Plant_Parenthood2.db\n",
      "1 rows affected.\n"
     ]
    },
    {
     "data": {
      "text/plain": [
       "[]"
      ]
     },
     "execution_count": 8,
     "metadata": {},
     "output_type": "execute_result"
    }
   ],
   "source": [
    "%%sql\n",
    "INSERT INTO CUSTOMERS (cid, name, email)\n",
    "VALUES (9, 'Joe mama', 'joe_mama@gmail.com');"
   ]
  },
  {
   "cell_type": "code",
   "execution_count": 7,
   "metadata": {},
   "outputs": [
    {
     "name": "stdout",
     "output_type": "stream",
     "text": [
      " * sqlite:///Plant_Parenthood2.db\n",
      "Done.\n"
     ]
    },
    {
     "data": {
      "text/plain": [
       "[]"
      ]
     },
     "execution_count": 7,
     "metadata": {},
     "output_type": "execute_result"
    }
   ],
   "source": [
    "%%sql\n",
    "CREATE TABLE user_preferences (\n",
    "    id INTEGER PRIMARY KEY AUTOINCREMENT,\n",
    "    username TEXT UNIQUE NOT NULL,\n",
    "    theme TEXT NOT NULL DEFAULT 'light'\n",
    ");"
   ]
  },
  {
   "cell_type": "code",
   "execution_count": 9,
   "metadata": {},
   "outputs": [
    {
     "name": "stdout",
     "output_type": "stream",
     "text": [
      " * sqlite:///Plant_Parenthood2.db\n",
      "Done.\n"
     ]
    },
    {
     "data": {
      "text/html": [
       "<table>\n",
       "    <thead>\n",
       "        <tr>\n",
       "            <th>cid</th>\n",
       "            <th>name</th>\n",
       "            <th>email</th>\n",
       "        </tr>\n",
       "    </thead>\n",
       "    <tbody>\n",
       "        <tr>\n",
       "            <td>9</td>\n",
       "            <td>Joe mama</td>\n",
       "            <td>joe_mama@gmail.com</td>\n",
       "        </tr>\n",
       "    </tbody>\n",
       "</table>"
      ],
      "text/plain": [
       "[(9, 'Joe mama', 'joe_mama@gmail.com')]"
      ]
     },
     "execution_count": 9,
     "metadata": {},
     "output_type": "execute_result"
    }
   ],
   "source": [
    "%%sql\n",
    "select * from customers"
   ]
  },
  {
   "cell_type": "code",
   "execution_count": null,
   "metadata": {},
   "outputs": [],
   "source": [
    "%%sql\n",
    "INSERT INTO ORDERS (oid, orderDate, shippingAddress)\n",
    "VALUES (5, '2024-08-09', '100 Chapel Hill Dr, Chapel Hill, NC');"
   ]
  },
  {
   "cell_type": "code",
   "execution_count": 12,
   "metadata": {},
   "outputs": [
    {
     "name": "stdout",
     "output_type": "stream",
     "text": [
      " * sqlite:///Plant_Parenthood2.db\n",
      "Done.\n"
     ]
    },
    {
     "data": {
      "text/html": [
       "<table>\n",
       "    <thead>\n",
       "        <tr>\n",
       "            <th>id</th>\n",
       "            <th>username</th>\n",
       "            <th>theme</th>\n",
       "        </tr>\n",
       "    </thead>\n",
       "    <tbody>\n",
       "    </tbody>\n",
       "</table>"
      ],
      "text/plain": [
       "[]"
      ]
     },
     "execution_count": 12,
     "metadata": {},
     "output_type": "execute_result"
    }
   ],
   "source": [
    "%%sql \n",
    "select * from user_preferences"
   ]
  },
  {
   "cell_type": "code",
   "execution_count": 10,
   "metadata": {},
   "outputs": [
    {
     "name": "stdout",
     "output_type": "stream",
     "text": [
      "\n",
      "Available tables:\n",
      "1. PLANTS\n",
      "2. ORDERS\n",
      "3. CONTAINS\n",
      "4. CUSTOMERS\n",
      "\n",
      "Choose an action:\n",
      "1. Add a new record\n",
      "2. Delete a record\n",
      "3. View all records\n",
      "4. Update a record\n",
      "\n",
      "Adding a new record:\n",
      "New record added successfully!\n",
      "Exiting program. Goodbye!\n"
     ]
    }
   ],
   "source": [
    "import sqlite3\n",
    "\n",
    "# Connect to the database (or create it if it doesn't exist)\n",
    "conn = sqlite3.connect('Plant_Parenthood.db')\n",
    "cursor = conn.cursor()\n",
    "\n",
    "# Fetch the list of tables in the database\n",
    "cursor.execute(\"SELECT name FROM sqlite_master WHERE type='table';\")\n",
    "tables = [table[0] for table in cursor.fetchall()]\n",
    "\n",
    "# Check if tables exist in the database\n",
    "if not tables:\n",
    "    print(\"No tables found in the database. Please create a table before proceeding.\")\n",
    "    conn.close()\n",
    "    exit()\n",
    "\n",
    "def display_menu():\n",
    "    # Display available tables and let the user choose one\n",
    "    print(\"\\nAvailable tables:\")\n",
    "    for i, table in enumerate(tables, start=1):\n",
    "        print(f\"{i}. {table}\")\n",
    "\n",
    "    try:\n",
    "        table_choice = int(input(\"Select the table you want to alter (by number): \")) - 1\n",
    "        if table_choice < 0 or table_choice >= len(tables):\n",
    "            raise ValueError(\"Invalid table choice.\")\n",
    "        return tables[table_choice]\n",
    "    except ValueError:\n",
    "        print(\"Invalid choice. Exiting.\")\n",
    "        conn.close()\n",
    "        exit()\n",
    "\n",
    "def perform_action(selected_table):\n",
    "    # Menu for selecting an action\n",
    "    print(\"\\nChoose an action:\")\n",
    "    print(\"1. Add a new record\")\n",
    "    print(\"2. Delete a record\")\n",
    "    print(\"3. View all records\")\n",
    "    print(\"4. Update a record\")\n",
    "    choice = input(\"Enter your choice: \")\n",
    "\n",
    "    if choice == \"1\":\n",
    "        # Add a new record\n",
    "        print(\"\\nAdding a new record:\")\n",
    "        columns_query = f\"PRAGMA table_info({selected_table});\"\n",
    "        cursor.execute(columns_query)\n",
    "        columns = [col[1] for col in cursor.fetchall()]\n",
    "        \n",
    "        values = []\n",
    "        for column in columns:\n",
    "            value = input(f\"Enter value for {column}: \")\n",
    "            values.append(value)\n",
    "\n",
    "        placeholders = \", \".join([\"?\"] * len(columns))\n",
    "        query = f\"INSERT INTO {selected_table} ({', '.join(columns)}) VALUES ({placeholders})\"\n",
    "        \n",
    "        try:\n",
    "            cursor.execute(query, values)\n",
    "            conn.commit()\n",
    "            print(\"New record added successfully!\")\n",
    "        except sqlite3.IntegrityError as e:\n",
    "            print(f\"Error: {e}\")\n",
    "\n",
    "    elif choice == \"2\":\n",
    "        # Delete a record\n",
    "        delete_column = input(f\"Enter the column name to filter by for deletion: \")\n",
    "        delete_value = input(f\"Enter the value for {delete_column} to delete: \")\n",
    "        \n",
    "        try:\n",
    "            cursor.execute(f\"DELETE FROM {selected_table} WHERE {delete_column} = ?\", (delete_value,))\n",
    "            conn.commit()\n",
    "            print(\"Record deleted successfully!\")\n",
    "        except sqlite3.OperationalError as e:\n",
    "            print(f\"Error: {e}\")\n",
    "\n",
    "    elif choice == \"3\":\n",
    "        # View all records\n",
    "        print(\"\\nViewing all records:\")\n",
    "        try:\n",
    "            cursor.execute(f\"SELECT * FROM {selected_table}\")\n",
    "            rows = cursor.fetchall()\n",
    "            for row in rows:\n",
    "                print(row)\n",
    "        except sqlite3.OperationalError as e:\n",
    "            print(f\"Error: {e}\")\n",
    "\n",
    "    elif choice == \"4\":\n",
    "        # Update a record\n",
    "        print(\"\\nUpdating a record:\")\n",
    "        update_column = input(\"Enter the column name you want to update (e.g., Email): \")\n",
    "        new_value = input(f\"Enter the new value for {update_column}: \")\n",
    "        filter_column = input(\"Enter the column name to filter by (e.g., CustomerID): \")\n",
    "        filter_value = input(f\"Enter the value of {filter_column} to identify the record: \")\n",
    "        \n",
    "        try:\n",
    "            cursor.execute(\n",
    "                f\"UPDATE {selected_table} SET {update_column} = ? WHERE {filter_column} = ?\",\n",
    "                (new_value, filter_value)\n",
    "            )\n",
    "            conn.commit()\n",
    "            print(\"Record updated successfully!\")\n",
    "        except sqlite3.OperationalError as e:\n",
    "            print(f\"Error: {e}\")\n",
    "\n",
    "    else:\n",
    "        print(\"Invalid choice. Returning to main menu.\")\n",
    "\n",
    "while True:\n",
    "    selected_table = display_menu()\n",
    "    perform_action(selected_table)\n",
    "\n",
    "    # Ask the user if they want to perform another action\n",
    "    continue_choice = input(\"\\nDo you want to perform another action? (yes/no): \").strip().lower()\n",
    "    if continue_choice != \"yes\":\n",
    "        print(\"Exiting program. Goodbye!\")\n",
    "        break\n",
    "\n",
    "# Close the connection\n",
    "conn.close()\n"
   ]
  },
  {
   "cell_type": "code",
   "execution_count": 6,
   "metadata": {},
   "outputs": [
    {
     "name": "stdout",
     "output_type": "stream",
     "text": [
      " * sqlite:///Plant_Parenthood.db\n",
      "Done.\n"
     ]
    },
    {
     "data": {
      "text/html": [
       "<table>\n",
       "    <thead>\n",
       "        <tr>\n",
       "            <th>cid</th>\n",
       "            <th>name</th>\n",
       "            <th>email</th>\n",
       "        </tr>\n",
       "    </thead>\n",
       "    <tbody>\n",
       "        <tr>\n",
       "            <td></td>\n",
       "            <td>1</td>\n",
       "            <td>2</td>\n",
       "        </tr>\n",
       "    </tbody>\n",
       "</table>"
      ],
      "text/plain": [
       "[('', '1', '2')]"
      ]
     },
     "execution_count": 6,
     "metadata": {},
     "output_type": "execute_result"
    }
   ],
   "source": [
    "%%sql\n",
    "select * From Customers\n"
   ]
  },
  {
   "cell_type": "code",
   "execution_count": 7,
   "metadata": {},
   "outputs": [
    {
     "name": "stdout",
     "output_type": "stream",
     "text": [
      " * sqlite:///Plant_Parenthood.db\n",
      "Done.\n"
     ]
    },
    {
     "data": {
      "text/html": [
       "<table>\n",
       "    <thead>\n",
       "        <tr>\n",
       "            <th>name</th>\n",
       "        </tr>\n",
       "    </thead>\n",
       "    <tbody>\n",
       "        <tr>\n",
       "            <td>PLANTS</td>\n",
       "        </tr>\n",
       "        <tr>\n",
       "            <td>ORDERS</td>\n",
       "        </tr>\n",
       "        <tr>\n",
       "            <td>CONTAINS</td>\n",
       "        </tr>\n",
       "        <tr>\n",
       "            <td>CUSTOMERS</td>\n",
       "        </tr>\n",
       "    </tbody>\n",
       "</table>"
      ],
      "text/plain": [
       "[('PLANTS',), ('ORDERS',), ('CONTAINS',), ('CUSTOMERS',)]"
      ]
     },
     "execution_count": 7,
     "metadata": {},
     "output_type": "execute_result"
    }
   ],
   "source": [
    "%%sql\n",
    "SELECT name FROM sqlite_master WHERE type='table';"
   ]
  }
 ],
 "metadata": {
  "kernelspec": {
   "display_name": "base",
   "language": "python",
   "name": "python3"
  },
  "language_info": {
   "codemirror_mode": {
    "name": "ipython",
    "version": 3
   },
   "file_extension": ".py",
   "mimetype": "text/x-python",
   "name": "python",
   "nbconvert_exporter": "python",
   "pygments_lexer": "ipython3",
   "version": "3.11.5 (main, Sep 11 2023, 08:19:27) [Clang 14.0.6 ]"
  },
  "vscode": {
   "interpreter": {
    "hash": "d96a4ad12ca32da17770530596f8219d02ab2d9969b7f320f42a34076f92ab21"
   }
  }
 },
 "nbformat": 4,
 "nbformat_minor": 2
}
